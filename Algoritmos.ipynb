{
  "nbformat": 4,
  "nbformat_minor": 0,
  "metadata": {
    "colab": {
      "name": "Algoritmos.ipynb",
      "provenance": [],
      "collapsed_sections": [
        "tYkf-vHGg0uu"
      ],
      "authorship_tag": "ABX9TyMKk8IEVnF/74AreLTdbs3+",
      "include_colab_link": true
    },
    "kernelspec": {
      "name": "python3",
      "display_name": "Python 3"
    },
    "language_info": {
      "name": "python"
    }
  },
  "cells": [
    {
      "cell_type": "markdown",
      "metadata": {
        "id": "view-in-github",
        "colab_type": "text"
      },
      "source": [
        "<a href=\"https://colab.research.google.com/github/JonatanCuri07/Algoritmos_/blob/main/Algoritmos.ipynb\" target=\"_parent\"><img src=\"https://colab.research.google.com/assets/colab-badge.svg\" alt=\"Open In Colab\"/></a>"
      ]
    },
    {
      "cell_type": "markdown",
      "metadata": {
        "id": "4EYwbNfaRXDO"
      },
      "source": [
        "#TEMAS\n",
        "  - Colab\n",
        "  - Compilación manual\n",
        "  - Templates"
      ]
    },
    {
      "cell_type": "code",
      "metadata": {
        "colab": {
          "base_uri": "https://localhost:8080/"
        },
        "id": "jiDZFqhrM8zW",
        "outputId": "0a0707f5-9252-41d5-a2c8-0e18d95f231d"
      },
      "source": [
        "%%writefile clase3.cpp\n",
        "#include <iostream>\n",
        "using namespace std;\n",
        "int main(){\n",
        "    cout<<\"UPC\";\n",
        "    return 0;\n",
        "}"
      ],
      "execution_count": null,
      "outputs": [
        {
          "output_type": "stream",
          "text": [
            "Writing clase3.cpp\n"
          ],
          "name": "stdout"
        }
      ]
    },
    {
      "cell_type": "code",
      "metadata": {
        "id": "efDV7I0ROeOP"
      },
      "source": [
        "!g++ clase3.cpp"
      ],
      "execution_count": null,
      "outputs": []
    },
    {
      "cell_type": "code",
      "metadata": {
        "colab": {
          "base_uri": "https://localhost:8080/"
        },
        "id": "7d-4wWmhOhoN",
        "outputId": "8dfb25a4-c2d6-4824-e08a-7ec68e36dd01"
      },
      "source": [
        "!./a.out"
      ],
      "execution_count": null,
      "outputs": [
        {
          "output_type": "stream",
          "text": [
            "UPC"
          ],
          "name": "stdout"
        }
      ]
    },
    {
      "cell_type": "code",
      "metadata": {
        "colab": {
          "base_uri": "https://localhost:8080/"
        },
        "id": "mcsShkXIO5Y5",
        "outputId": "e6f18984-b346-4ad3-82bd-6df9fc594643"
      },
      "source": [
        "#compila y ejecuta\n",
        "!g++ clase3.cpp && ./a.out"
      ],
      "execution_count": null,
      "outputs": [
        {
          "output_type": "stream",
          "text": [
            "UPC"
          ],
          "name": "stdout"
        }
      ]
    },
    {
      "cell_type": "markdown",
      "metadata": {
        "id": "Ntfve5dASWSO"
      },
      "source": [
        "#TEMPLATES\n"
      ]
    },
    {
      "cell_type": "code",
      "metadata": {
        "colab": {
          "base_uri": "https://localhost:8080/"
        },
        "id": "1tj_SALmPiX4",
        "outputId": "222d1340-8b86-47b1-c81e-6f0b02af0a2e"
      },
      "source": [
        "%%writefile sintemplate.cpp\n",
        "typedef unsigned long long ull; \n",
        "class BigNumber{\n",
        "    ull n1;\n",
        "    public:\n",
        "    BigNumber(ull n1=0):n1(n1){}\n",
        "};\n",
        "\n",
        "class BigNumberF{\n",
        "    float n1;\n",
        "    public:\n",
        "    BigNumberF(float n1=0):n1(n1){}\n",
        "};\n",
        "\n",
        "class BigNumberD{\n",
        "    double n1;\n",
        "    public:\n",
        "    BigNumberD(double n1=0):n1(n1){}\n",
        "};\n",
        "int main(){\n",
        "    BigNumber n1;\n",
        "    BigNumberF n2;\n",
        "    BigNumberD n3;\n",
        "    return 0;\n",
        "}"
      ],
      "execution_count": null,
      "outputs": [
        {
          "output_type": "stream",
          "text": [
            "Overwriting sintemplate.cpp\n"
          ],
          "name": "stdout"
        }
      ]
    },
    {
      "cell_type": "code",
      "metadata": {
        "id": "yceasY60T4uQ"
      },
      "source": [
        "!g++ sintemplate.cpp && ./a.out"
      ],
      "execution_count": null,
      "outputs": []
    },
    {
      "cell_type": "code",
      "metadata": {
        "colab": {
          "base_uri": "https://localhost:8080/"
        },
        "id": "EX9lyd6dUCVa",
        "outputId": "dcf2675f-0093-451b-bbe9-e5eaee685838"
      },
      "source": [
        "%%writefile contemplate.cpp\n",
        "typedef unsigned long long ull; \n",
        "template <class Tipo>\n",
        "class BigNumber{\n",
        "    Tipo n1;\n",
        "    public:\n",
        "    BigNumber(Tipo n1=0):n1(n1){}\n",
        "};\n",
        "\n",
        "\n",
        "int main(){\n",
        "    BigNumber<ull> n1;\n",
        "    BigNumber<float> n2;\n",
        "    BigNumber<double> n3;\n",
        "    return 0;\n",
        "}"
      ],
      "execution_count": null,
      "outputs": [
        {
          "output_type": "stream",
          "text": [
            "Overwriting contemplate.cpp\n"
          ],
          "name": "stdout"
        }
      ]
    },
    {
      "cell_type": "code",
      "metadata": {
        "id": "1HgAMMsoWqVR"
      },
      "source": [
        "!g++ contemplate.cpp && ./a.out"
      ],
      "execution_count": null,
      "outputs": []
    },
    {
      "cell_type": "markdown",
      "metadata": {
        "id": "DjKOkEKvbrC4"
      },
      "source": [
        "#ARRAY CON TEMPLATES"
      ]
    },
    {
      "cell_type": "code",
      "metadata": {
        "id": "BEcg8PYOWsV4"
      },
      "source": [
        "%%writefile estructura.cpp\n",
        "#include <string>\n",
        "using std::string;\n",
        "class Virus{\n",
        "    string name;\n",
        "};\n",
        "class Person{\n",
        "    string name;\n",
        "};\n",
        "/*\n",
        "class CVirus{\n",
        "  Virus* arr;\n",
        "  unsigned short id;\n",
        "  public:\n",
        "  CVirus{\n",
        "      arr=new Virus[100];\n",
        "      id = 0;\n",
        "  }  \n",
        "  void inset(Virus v){\n",
        "      if(id<100){\n",
        "          arr[id]=v;\n",
        "          id++;\n",
        "      }\n",
        "  }\n",
        "};\n",
        "*/\n",
        "template <class T>\n",
        "class Array{\n",
        "  Tipo* arr;\n",
        "  unsigned short id;\n",
        "  public:\n",
        "  Array{\n",
        "      arr=new Tipo[100];\n",
        "      id = 0;\n",
        "  }  \n",
        "  void inset(Tipo v){\n",
        "      if(id<100){\n",
        "          arr[id]=v;\n",
        "          id++;\n",
        "      }\n",
        "  }\n",
        "};"
      ],
      "execution_count": null,
      "outputs": []
    },
    {
      "cell_type": "markdown",
      "metadata": {
        "id": "niYTyWXhe2gg"
      },
      "source": [
        "#SEMANA 2\n",
        "###CLASE 2\n",
        "- Archivos\n",
        "- Lambdas\n",
        "- Recursividad\n"
      ]
    },
    {
      "cell_type": "markdown",
      "metadata": {
        "id": "tYkf-vHGg0uu"
      },
      "source": [
        "##ARCHIVOS"
      ]
    },
    {
      "cell_type": "code",
      "metadata": {
        "colab": {
          "base_uri": "https://localhost:8080/"
        },
        "id": "RrTbYOnRe-lJ",
        "outputId": "0988918c-ee6d-4265-f16b-86945714c311"
      },
      "source": [
        "%%writefile archivos.txt\n",
        "LG , negro , 1200 \n",
        "Samsung , azul , 1500 \n",
        "Nokia , rojo , 800 "
      ],
      "execution_count": 40,
      "outputs": [
        {
          "output_type": "stream",
          "text": [
            "Overwriting archivos.txt\n"
          ],
          "name": "stdout"
        }
      ]
    },
    {
      "cell_type": "code",
      "metadata": {
        "colab": {
          "base_uri": "https://localhost:8080/"
        },
        "id": "0VTpyzvhhZi8",
        "outputId": "77a5e942-9903-4b63-dd9e-7c901c73f882"
      },
      "source": [
        "%%writefile archivos.cpp\n",
        "#include <iostream>\n",
        "#include <fstream>\n",
        "#include <sstream>\n",
        "using namespace std;\n",
        "void ejem1(){\n",
        " string cadena;  \n",
        " //COUT \n",
        "    fstream archE(\"texto.txt\", ios::out);\n",
        "    archE<<\"UPC\";\n",
        "    archE.close();\n",
        "\n",
        "//CIN\n",
        "    fstream archL(\"texto.txt\", ios::in);\n",
        "    archL>>cadena;\n",
        "    cout<<cadena;\n",
        "    archL.close();\n",
        "    \n",
        "}\n",
        "\n",
        "void ejem2(){//forma con cada coma\n",
        "    string cadena;\n",
        "    string color, marca,aux;\n",
        "    float precio;\n",
        "    ifstream archivo(\"archivos.txt\");\n",
        "    while(getline(archivo,cadena))   //archivo>>cadena\n",
        "    {\n",
        "      stringstream archMem(cadena); //convierte un string en un archivo en memoria \n",
        "      getline(archMem,marca,',');\n",
        "      getline(archMem,color,',');\n",
        "      getline(archMem,aux);\n",
        "      precio=stod(aux);\n",
        "      cout<<precio<<\" \"<<color<<\" \"<<marca<<endl;\n",
        "    }\n",
        "}\n",
        "\n",
        "void ejem3(){//forma eficiente pero solo para espacios\n",
        "    \n",
        "string cadena;\n",
        "    string color, marca,aux;\n",
        "    float precio;\n",
        "    ifstream archivo(\"archivos.txt\");\n",
        "    while(archivo>>marca>>aux>>color>>aux>>precio)   //archivo>>cadena\n",
        "    {\n",
        "      \n",
        "      cout<<precio<<\" \"<<color<<\" \"<<marca<<endl;\n",
        "    }\n",
        "\n",
        "\n",
        "}\n",
        "int main(){\n",
        "    ejem3();\n",
        "}"
      ],
      "execution_count": 41,
      "outputs": [
        {
          "output_type": "stream",
          "text": [
            "Overwriting archivos.cpp\n"
          ],
          "name": "stdout"
        }
      ]
    },
    {
      "cell_type": "code",
      "metadata": {
        "colab": {
          "base_uri": "https://localhost:8080/"
        },
        "id": "N9n9aCkQiMN1",
        "outputId": "3cb796b6-9e17-4460-b550-1d07e863b24b"
      },
      "source": [
        "!g++ archivos.cpp && ./a.out"
      ],
      "execution_count": 42,
      "outputs": [
        {
          "output_type": "stream",
          "text": [
            "1200 negro LG\n",
            "1500 azul Samsung\n",
            "800 rojo Nokia\n"
          ],
          "name": "stdout"
        }
      ]
    },
    {
      "cell_type": "markdown",
      "metadata": {
        "id": "JVPb4sWEr25h"
      },
      "source": [
        "##LAMBDAS\n",
        "\n",
        "``` \n",
        "[]()->{}\n",
        "[] : VARIABLES GLOBALES\n",
        "() : PARAMETROS\n",
        "-> : TIPO DE RETORNO(OPCIONAL)\n",
        "{} : CUERPO DE FUNCION\n",
        "```"
      ]
    },
    {
      "cell_type": "code",
      "metadata": {
        "colab": {
          "base_uri": "https://localhost:8080/"
        },
        "id": "xsPmyXRUiQmT",
        "outputId": "26889465-d508-4c09-b90f-9cbb8077bbe4"
      },
      "source": [
        "%%writefile lambdas.cpp\n",
        "#include <iostream>\n",
        "#include <functional>\n",
        "using namespace std;\n",
        "void oper(function<int(int,int)> criterio)\n",
        "{\n",
        "    int x=10;\n",
        "    int y=20;\n",
        "    cout<<criterio(x,y)<<\"\\n\";\n",
        "}\n",
        "auto mayor (int a, int b){return a>=b?a:b;};\n",
        "int main(){\n",
        "    //creando lambdas\n",
        "   //auto mayor = [](int a, int b){return a>=b?a:b;}; //toda la función se asigna como variable\n",
        "   auto menor = [](int a, int b){return a<=b?a:b;};\n",
        "   //invocación a la operación\n",
        "   oper(mayor);\n",
        "}"
      ],
      "execution_count": 56,
      "outputs": [
        {
          "output_type": "stream",
          "text": [
            "Overwriting lambdas.cpp\n"
          ],
          "name": "stdout"
        }
      ]
    },
    {
      "cell_type": "code",
      "metadata": {
        "colab": {
          "base_uri": "https://localhost:8080/"
        },
        "id": "7vfiQGFSu6-j",
        "outputId": "8d0ecdc4-aef7-44f4-bf24-06558025f98d"
      },
      "source": [
        "!g++ lambdas.cpp && ./a.out"
      ],
      "execution_count": 57,
      "outputs": [
        {
          "output_type": "stream",
          "text": [
            "20\n"
          ],
          "name": "stdout"
        }
      ]
    },
    {
      "cell_type": "code",
      "metadata": {
        "colab": {
          "base_uri": "https://localhost:8080/"
        },
        "id": "BZQuowDUu_Yk",
        "outputId": "ad8a90a7-b735-4349-ef4a-d1bbd6d220a6"
      },
      "source": [
        "%%writefile covid.cpp\n",
        "#include <iostream>\n",
        "#include <sstream>\n",
        "#include <string>\n",
        "#include <functional>\n",
        "#include <vector>\n",
        "using namespace std;\n",
        "struct Persona{\n",
        "    string nombre;\n",
        "    char sexo;\n",
        "    unsigned short edad;\n",
        "    Persona(string n, char s, unsigned short e){\n",
        "        nombre=n;\n",
        "        sexo=s;\n",
        "        edad=e;\n",
        "    }\n",
        "};\n",
        "void salen(function<void(vector<Persona>)> criterio){\n",
        "    vector<Persona> personas;\n",
        "    personas.push_back(Persona(\"Walter\",'M',38));\n",
        "    personas.push_back(Persona(\"Alfredo\",'M',19));\n",
        "    personas.push_back(Persona(\"Paulo\",'F',55));\n",
        "    personas.push_back(Persona(\"Joaquin\",'F',60));\n",
        "    personas.push_back(Persona(\"Kendall\",'M',30));\n",
        "    personas.push_back(Persona(\"Karelokygil\",'F',27));\n",
        "\n",
        "    criterio(personas);\n",
        "}\n",
        "\n",
        "void masculino(vector<Persona> p){\n",
        "    for(size_t i=0; i<p.size();++i)\n",
        "        if(p[i].sexo=='M')cout<<\" \"<<p[i].nombre<<\" \"<<p[i].sexo<<\" \"<<p[i].edad;\n",
        "}\n",
        "\n",
        "\n",
        "int main (){\n",
        "    \n",
        "auto femenino =[](vector<Persona> p){\n",
        "    for(size_t i=0; i<p.size();++i)\n",
        "        if(p[i].sexo=='F')cout<<\" \"<<p[i].nombre<<\" \"<<p[i].sexo<<\" \"<<p[i].edad;\n",
        "};\n",
        "\n",
        "auto edad=[](vector<Persona> p){\n",
        "    for(size_t i=0; i<p.size();++i)\n",
        "        if(p[i].edad>=18 && p[i].edad<=50)cout<<\" \"<<p[i].nombre<<p[i].sexo<<\" \"<<p[i].edad;\n",
        "};\n",
        "\n",
        "salen(edad);\n",
        "}"
      ],
      "execution_count": 76,
      "outputs": [
        {
          "output_type": "stream",
          "text": [
            "Overwriting covid.cpp\n"
          ],
          "name": "stdout"
        }
      ]
    },
    {
      "cell_type": "code",
      "metadata": {
        "colab": {
          "base_uri": "https://localhost:8080/"
        },
        "id": "s1ciryyozxjS",
        "outputId": "4e4022bc-27f8-41ad-a9a6-123241810753"
      },
      "source": [
        "!g++ covid.cpp && ./a.out"
      ],
      "execution_count": 78,
      "outputs": [
        {
          "output_type": "stream",
          "text": [
            " WalterM 38 AlfredoM 19 KendallM 30 KarelokygilF 27"
          ],
          "name": "stdout"
        }
      ]
    },
    {
      "cell_type": "markdown",
      "metadata": {
        "id": "kGzE_0zJ1F2h"
      },
      "source": [
        "#TAREA\n",
        "* IMPLEMENTAR ARCHIVOS Y LAMBDAS EN LA FUNCIONALIDAD DE SU PROYECTO FINAL DE PROGRA 2"
      ]
    },
    {
      "cell_type": "code",
      "metadata": {
        "id": "-azJal23zzxG"
      },
      "source": [
        ""
      ],
      "execution_count": null,
      "outputs": []
    }
  ]
}