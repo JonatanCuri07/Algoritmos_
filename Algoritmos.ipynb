{
  "nbformat": 4,
  "nbformat_minor": 0,
  "metadata": {
    "colab": {
      "name": "Algoritmos.ipynb",
      "provenance": [],
      "collapsed_sections": [],
      "authorship_tag": "ABX9TyMgB8q/Un2O5qkqAcR4Dd2d",
      "include_colab_link": true
    },
    "kernelspec": {
      "name": "python3",
      "display_name": "Python 3"
    },
    "language_info": {
      "name": "python"
    }
  },
  "cells": [
    {
      "cell_type": "markdown",
      "metadata": {
        "id": "view-in-github",
        "colab_type": "text"
      },
      "source": [
        "<a href=\"https://colab.research.google.com/github/JonatanCuri07/Algoritmos_/blob/main/Algoritmos.ipynb\" target=\"_parent\"><img src=\"https://colab.research.google.com/assets/colab-badge.svg\" alt=\"Open In Colab\"/></a>"
      ]
    },
    {
      "cell_type": "markdown",
      "metadata": {
        "id": "4EYwbNfaRXDO"
      },
      "source": [
        "#TEMAS\n",
        "  - Colab\n",
        "  - Compilación manual\n",
        "  - Templates"
      ]
    },
    {
      "cell_type": "code",
      "metadata": {
        "colab": {
          "base_uri": "https://localhost:8080/"
        },
        "id": "jiDZFqhrM8zW",
        "outputId": "0a0707f5-9252-41d5-a2c8-0e18d95f231d"
      },
      "source": [
        "%%writefile clase3.cpp\n",
        "#include <iostream>\n",
        "using namespace std;\n",
        "int main(){\n",
        "    cout<<\"UPC\";\n",
        "    return 0;\n",
        "}"
      ],
      "execution_count": 1,
      "outputs": [
        {
          "output_type": "stream",
          "text": [
            "Writing clase3.cpp\n"
          ],
          "name": "stdout"
        }
      ]
    },
    {
      "cell_type": "code",
      "metadata": {
        "id": "efDV7I0ROeOP"
      },
      "source": [
        "!g++ clase3.cpp"
      ],
      "execution_count": 2,
      "outputs": []
    },
    {
      "cell_type": "code",
      "metadata": {
        "colab": {
          "base_uri": "https://localhost:8080/"
        },
        "id": "7d-4wWmhOhoN",
        "outputId": "8dfb25a4-c2d6-4824-e08a-7ec68e36dd01"
      },
      "source": [
        "!./a.out"
      ],
      "execution_count": 3,
      "outputs": [
        {
          "output_type": "stream",
          "text": [
            "UPC"
          ],
          "name": "stdout"
        }
      ]
    },
    {
      "cell_type": "code",
      "metadata": {
        "colab": {
          "base_uri": "https://localhost:8080/"
        },
        "id": "mcsShkXIO5Y5",
        "outputId": "e6f18984-b346-4ad3-82bd-6df9fc594643"
      },
      "source": [
        "#compila y ejecuta\n",
        "!g++ clase3.cpp && ./a.out"
      ],
      "execution_count": 4,
      "outputs": [
        {
          "output_type": "stream",
          "text": [
            "UPC"
          ],
          "name": "stdout"
        }
      ]
    },
    {
      "cell_type": "markdown",
      "metadata": {
        "id": "Ntfve5dASWSO"
      },
      "source": [
        "#TEMPLATES\n"
      ]
    },
    {
      "cell_type": "code",
      "metadata": {
        "colab": {
          "base_uri": "https://localhost:8080/"
        },
        "id": "1tj_SALmPiX4",
        "outputId": "222d1340-8b86-47b1-c81e-6f0b02af0a2e"
      },
      "source": [
        "%%writefile sintemplate.cpp\n",
        "typedef unsigned long long ull; \n",
        "class BigNumber{\n",
        "    ull n1;\n",
        "    public:\n",
        "    BigNumber(ull n1=0):n1(n1){}\n",
        "};\n",
        "\n",
        "class BigNumberF{\n",
        "    float n1;\n",
        "    public:\n",
        "    BigNumberF(float n1=0):n1(n1){}\n",
        "};\n",
        "\n",
        "class BigNumberD{\n",
        "    double n1;\n",
        "    public:\n",
        "    BigNumberD(double n1=0):n1(n1){}\n",
        "};\n",
        "int main(){\n",
        "    BigNumber n1;\n",
        "    BigNumberF n2;\n",
        "    BigNumberD n3;\n",
        "    return 0;\n",
        "}"
      ],
      "execution_count": 15,
      "outputs": [
        {
          "output_type": "stream",
          "text": [
            "Overwriting sintemplate.cpp\n"
          ],
          "name": "stdout"
        }
      ]
    },
    {
      "cell_type": "code",
      "metadata": {
        "id": "yceasY60T4uQ"
      },
      "source": [
        "!g++ sintemplate.cpp && ./a.out"
      ],
      "execution_count": 16,
      "outputs": []
    },
    {
      "cell_type": "code",
      "metadata": {
        "colab": {
          "base_uri": "https://localhost:8080/"
        },
        "id": "EX9lyd6dUCVa",
        "outputId": "dcf2675f-0093-451b-bbe9-e5eaee685838"
      },
      "source": [
        "%%writefile contemplate.cpp\n",
        "typedef unsigned long long ull; \n",
        "template <class Tipo>\n",
        "class BigNumber{\n",
        "    Tipo n1;\n",
        "    public:\n",
        "    BigNumber(Tipo n1=0):n1(n1){}\n",
        "};\n",
        "\n",
        "\n",
        "int main(){\n",
        "    BigNumber<ull> n1;\n",
        "    BigNumber<float> n2;\n",
        "    BigNumber<double> n3;\n",
        "    return 0;\n",
        "}"
      ],
      "execution_count": 19,
      "outputs": [
        {
          "output_type": "stream",
          "text": [
            "Overwriting contemplate.cpp\n"
          ],
          "name": "stdout"
        }
      ]
    },
    {
      "cell_type": "code",
      "metadata": {
        "id": "1HgAMMsoWqVR"
      },
      "source": [
        "!g++ contemplate.cpp && ./a.out"
      ],
      "execution_count": 20,
      "outputs": []
    },
    {
      "cell_type": "markdown",
      "metadata": {
        "id": "DjKOkEKvbrC4"
      },
      "source": [
        "#ARRAY CON TEMPLATES"
      ]
    },
    {
      "cell_type": "code",
      "metadata": {
        "id": "BEcg8PYOWsV4"
      },
      "source": [
        "%%writefile estructura.cpp\n",
        "#include <string>\n",
        "using std::string;\n",
        "class Virus{\n",
        "    string name;\n",
        "};\n",
        "class Person{\n",
        "    string name;\n",
        "};\n",
        "/*\n",
        "class CVirus{\n",
        "  Virus* arr;\n",
        "  unsigned short id;\n",
        "  public:\n",
        "  CVirus{\n",
        "      arr=new Virus[100];\n",
        "      id = 0;\n",
        "  }  \n",
        "  void inset(Virus v){\n",
        "      if(id<100){\n",
        "          arr[id]=v;\n",
        "          id++;\n",
        "      }\n",
        "  }\n",
        "};\n",
        "*/\n",
        "template <class T>\n",
        "class Array{\n",
        "  Tipo* arr;\n",
        "  unsigned short id;\n",
        "  public:\n",
        "  Array{\n",
        "      arr=new Tipo[100];\n",
        "      id = 0;\n",
        "  }  \n",
        "  void inset(Tipo v){\n",
        "      if(id<100){\n",
        "          arr[id]=v;\n",
        "          id++;\n",
        "      }\n",
        "  }\n",
        "};"
      ],
      "execution_count": null,
      "outputs": []
    }
  ]
}